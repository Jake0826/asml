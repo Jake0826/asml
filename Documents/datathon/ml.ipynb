{
 "cells": [
  {
   "cell_type": "code",
   "execution_count": 1,
   "id": "c3f3be2e-e6bf-41ec-9b58-27aa76b878a3",
   "metadata": {},
   "outputs": [],
   "source": [
    "#imports\n",
    "import os\n",
    "import random\n",
    "import torch\n",
    "import torchvision\n",
    "from torchvision import transforms\n",
    "from torch.utils.data import DataLoader\n",
    "import os\n",
    "import random\n",
    "import shutil"
   ]
  },
  {
   "cell_type": "code",
   "execution_count": 2,
   "id": "ca3c3fac-7fbe-443c-9eff-d21ae6aa7454",
   "metadata": {},
   "outputs": [],
   "source": [
    "#The Kaggle dataset we use is too big, so I just take 100 images of each item\n",
    "\n",
    "# Define the path to the original directory and the new directory\n",
    "original_dir = \"asl_alphabet\"\n",
    "new_dir = \"asl_alphabet_100\"\n",
    "\n",
    "# Create the new directory if it doesn't already exist\n",
    "if not os.path.exists(new_dir):\n",
    "    os.makedirs(new_dir)\n",
    "\n",
    "# Loop through each subdirectory in the original directory\n",
    "for subdir in os.listdir(original_dir):\n",
    "    subdir_path = os.path.join(original_dir, subdir)\n",
    "    if os.path.isdir(subdir_path):\n",
    "        # Create a new subdirectory in the new directory\n",
    "        new_subdir_path = os.path.join(new_dir, subdir)\n",
    "        if not os.path.exists(new_subdir_path):\n",
    "            os.makedirs(new_subdir_path)\n",
    "        # Get a list of all the images in the subdirectory\n",
    "        images = os.listdir(subdir_path)\n",
    "        # Shuffle the list of images and select the first 50\n",
    "        random.shuffle(images)\n",
    "        selected_images = images[:100]\n",
    "        # Move the selected images to the new subdirectory\n",
    "        for image in selected_images:\n",
    "            src = os.path.join(subdir_path, image)\n",
    "            dst = os.path.join(new_subdir_path, image)\n",
    "            shutil.copyfile(src, dst)\n"
   ]
  },
  {
   "cell_type": "code",
   "execution_count": 3,
   "id": "538c63ac-5cae-487f-b719-feb6d87f5018",
   "metadata": {},
   "outputs": [
    {
     "name": "stdout",
     "output_type": "stream",
     "text": [
      "[1,   100] loss: 3.453\n",
      "[1,   200] loss: 3.416\n",
      "[1,   300] loss: 3.372\n",
      "[1,   400] loss: 3.321\n",
      "[1,   500] loss: 3.233\n",
      "[1,   600] loss: 3.135\n",
      "[2,   100] loss: 2.924\n",
      "[2,   200] loss: 2.849\n",
      "[2,   300] loss: 2.710\n",
      "[2,   400] loss: 2.581\n",
      "[2,   500] loss: 2.500\n",
      "[2,   600] loss: 2.392\n",
      "[3,   100] loss: 2.167\n",
      "[3,   200] loss: 2.146\n",
      "[3,   300] loss: 2.014\n",
      "[3,   400] loss: 1.955\n",
      "[3,   500] loss: 1.867\n",
      "[3,   600] loss: 1.804\n",
      "[4,   100] loss: 1.660\n",
      "[4,   200] loss: 1.599\n",
      "[4,   300] loss: 1.558\n",
      "[4,   400] loss: 1.546\n",
      "[4,   500] loss: 1.509\n",
      "[4,   600] loss: 1.473\n",
      "[5,   100] loss: 1.344\n",
      "[5,   200] loss: 1.334\n",
      "[5,   300] loss: 1.275\n",
      "[5,   400] loss: 1.260\n",
      "[5,   500] loss: 1.231\n",
      "[5,   600] loss: 1.228\n",
      "[6,   100] loss: 1.163\n",
      "[6,   200] loss: 1.101\n",
      "[6,   300] loss: 1.115\n",
      "[6,   400] loss: 1.068\n",
      "[6,   500] loss: 1.103\n",
      "[6,   600] loss: 1.050\n",
      "[7,   100] loss: 0.988\n",
      "[7,   200] loss: 0.975\n",
      "[7,   300] loss: 0.988\n",
      "[7,   400] loss: 0.933\n",
      "[7,   500] loss: 0.924\n",
      "[7,   600] loss: 0.903\n",
      "[8,   100] loss: 0.890\n",
      "[8,   200] loss: 0.847\n",
      "[8,   300] loss: 0.799\n",
      "[8,   400] loss: 0.849\n",
      "[8,   500] loss: 0.820\n",
      "[8,   600] loss: 0.832\n",
      "[9,   100] loss: 0.745\n",
      "[9,   200] loss: 0.791\n",
      "[9,   300] loss: 0.767\n",
      "[9,   400] loss: 0.734\n",
      "[9,   500] loss: 0.729\n",
      "[9,   600] loss: 0.699\n",
      "[10,   100] loss: 0.668\n",
      "[10,   200] loss: 0.652\n",
      "[10,   300] loss: 0.670\n",
      "[10,   400] loss: 0.646\n",
      "[10,   500] loss: 0.655\n",
      "[10,   600] loss: 0.633\n",
      "Finished Training\n",
      "Accuracy of the network on the test images: 76 %\n"
     ]
    }
   ],
   "source": [
    "#this performs the nerual network \n",
    "data_dir = \"asl_alphabet_100\"\n",
    "\n",
    "# Define the transformations to be applied to the data\n",
    "transform = transforms.Compose([\n",
    "    transforms.Resize((64, 64)),\n",
    "    transforms.RandomHorizontalFlip(),\n",
    "    transforms.ToTensor(),\n",
    "    transforms.Normalize((0.5,), (0.5,))\n",
    "])\n",
    "\n",
    "# Load the data\n",
    "dataset = torchvision.datasets.ImageFolder(root=data_dir, transform=transform)\n",
    "\n",
    "# Split the data into training and testing sets\n",
    "train_size = int(0.8 * len(dataset))\n",
    "test_size = len(dataset) - train_size\n",
    "train_dataset, test_dataset = torch.utils.data.random_split(dataset, [train_size, test_size])\n",
    "\n",
    "# Define the DataLoader for the training and testing sets\n",
    "batch_size = 32\n",
    "train_loader = DataLoader(train_dataset, batch_size=batch_size, shuffle=True)\n",
    "test_loader = DataLoader(test_dataset, batch_size=batch_size, shuffle=True)\n",
    "\n",
    "# Define the neural network architecture\n",
    "class Net(torch.nn.Module):\n",
    "    def __init__(self):\n",
    "        super(Net, self).__init__()\n",
    "        self.conv1 = torch.nn.Conv2d(3, 16, kernel_size=3, stride=1, padding=1)\n",
    "        self.pool = torch.nn.MaxPool2d(kernel_size=2, stride=2, padding=0)\n",
    "        self.conv2 = torch.nn.Conv2d(16, 32, kernel_size=3, stride=1, padding=1)\n",
    "        self.fc1 = torch.nn.Linear(32 * 16 * 16, 256)\n",
    "        self.fc2 = torch.nn.Linear(256, 32)\n",
    "\n",
    "    def forward(self, x):\n",
    "        x = self.conv1(x)\n",
    "        x = torch.nn.functional.relu(x)\n",
    "        x = self.pool(x)\n",
    "        x = self.conv2(x)\n",
    "        x = torch.nn.functional.relu(x)\n",
    "        x = self.pool(x)\n",
    "        x = x.view(-1, 32 * 16 * 16)\n",
    "        x = self.fc1(x)\n",
    "        x = torch.nn.functional.relu(x)\n",
    "        x = self.fc2(x)\n",
    "        return x\n",
    "\n",
    "# Define the loss function and optimizer\n",
    "net = Net()\n",
    "criterion = torch.nn.CrossEntropyLoss()\n",
    "optimizer = torch.optim.SGD(net.parameters(), lr=0.001, momentum=0.9)\n",
    "\n",
    "# Train the neural network\n",
    "num_epochs = 10\n",
    "for epoch in range(num_epochs):\n",
    "    running_loss = 0.0\n",
    "    for i, data in enumerate(train_loader, 0):\n",
    "        inputs, labels = data\n",
    "        optimizer.zero_grad()\n",
    "        outputs = net(inputs)\n",
    "        # print(\"print\")\n",
    "        # print(outputs.shape,labels.shape)\n",
    "        loss = criterion(outputs, labels)\n",
    "        loss.backward()\n",
    "        optimizer.step()\n",
    "        running_loss += loss.item()\n",
    "        if i % 100 == 99:\n",
    "            print('[%d, %5d] loss: %.3f' % (epoch + 1, i + 1, running_loss / 100))\n",
    "            running_loss = 0.0\n",
    "\n",
    "print('Finished Training')"
   ]
  },
  {
   "cell_type": "code",
   "execution_count": null,
   "id": "9227c52d-bfea-4579-a5b8-5df62a271493",
   "metadata": {},
   "outputs": [],
   "source": [
    "# Test the neural network\n",
    "correct = 0\n",
    "total = 0\n",
    "with torch.no_grad():\n",
    "    for data in test_loader:\n",
    "        images, labels = data\n",
    "        outputs = net(images)\n",
    "        _, predicted = torch.max(outputs.data, 1)\n",
    "        total += labels.size(0)\n",
    "        correct += (predicted == labels).sum().item()\n",
    "\n",
    "print('Accuracy of the network on the test images: %d %%' % (100 * correct / total))"
   ]
  },
  {
   "cell_type": "code",
   "execution_count": 5,
   "id": "5cea50aa-0f35-4f47-9800-22a4fa6e8314",
   "metadata": {},
   "outputs": [],
   "source": [
    "#save the neural network \n",
    "torch.save(net.state_dict(), 'translater.pth')"
   ]
  },
  {
   "cell_type": "code",
   "execution_count": null,
   "id": "bc8ac3ae-0c0e-4430-8c8d-e9acac481615",
   "metadata": {},
   "outputs": [],
   "source": [
    "##YOLO hand detection"
   ]
  },
  {
   "cell_type": "code",
   "execution_count": 3,
   "id": "a13eba50-c281-4d7f-9b3d-b9cd69528ea1",
   "metadata": {},
   "outputs": [
    {
     "name": "stderr",
     "output_type": "stream",
     "text": [
      "Downloading: \"https://github.com/ultralytics/yolov5/zipball/master\" to /Users/jakesilver/.cache/torch/hub/master.zip\n",
      "YOLOv5 🚀 2023-4-29 Python-3.9.12 torch-2.0.0 CPU\n",
      "\n",
      "Fusing layers... \n"
     ]
    },
    {
     "name": "stdout",
     "output_type": "stream",
     "text": [
      "\u001b[31m\u001b[1mrequirements:\u001b[0m /Users/jakesilver/.cache/torch/hub/requirements.txt not found, check failed.\n"
     ]
    },
    {
     "name": "stderr",
     "output_type": "stream",
     "text": [
      "YOLOv5s summary: 213 layers, 7225885 parameters, 0 gradients\n",
      "Adding AutoShape... \n"
     ]
    }
   ],
   "source": [
    "import torch\n",
    "import cv2\n",
    "import numpy as np\n",
    "\n",
    "# Load YOLOv5 model\n",
    "model = torch.hub.load('ultralytics/yolov5', 'yolov5s', pretrained=True, force_reload=True)"
   ]
  },
  {
   "cell_type": "code",
   "execution_count": 4,
   "id": "cefbada5-79e9-49f5-b68e-646e241998a9",
   "metadata": {},
   "outputs": [
    {
     "name": "stdout",
     "output_type": "stream",
     "text": [
      "image 1/1: 3088x2320 (no detections)\n",
      "Speed: 5.6ms pre-process, 275.9ms inference, 1.8ms NMS per image at shape (1, 3, 640, 480)\n"
     ]
    },
    {
     "ename": "TypeError",
     "evalue": "list indices must be integers or slices, not tuple",
     "output_type": "error",
     "traceback": [
      "\u001b[0;31m---------------------------------------------------------------------------\u001b[0m",
      "\u001b[0;31mTypeError\u001b[0m                                 Traceback (most recent call last)",
      "Input \u001b[0;32mIn [4]\u001b[0m, in \u001b[0;36m<cell line: 8>\u001b[0;34m()\u001b[0m\n\u001b[1;32m      6\u001b[0m \u001b[38;5;28mprint\u001b[39m(results)\n\u001b[1;32m      7\u001b[0m \u001b[38;5;66;03m# Filter out all the detected objects except for the hand\u001b[39;00m\n\u001b[0;32m----> 8\u001b[0m hand_results \u001b[38;5;241m=\u001b[39m results\u001b[38;5;241m.\u001b[39mpred[\u001b[43mresults\u001b[49m\u001b[38;5;241;43m.\u001b[39;49m\u001b[43mpred\u001b[49m\u001b[43m[\u001b[49m\u001b[43m:\u001b[49m\u001b[43m,\u001b[49m\u001b[43m \u001b[49m\u001b[38;5;241;43m5\u001b[39;49m\u001b[43m]\u001b[49m \u001b[38;5;241m==\u001b[39m \u001b[38;5;241m0\u001b[39m] \u001b[38;5;66;03m# Assumes hand class has index 0\u001b[39;00m\n\u001b[1;32m     10\u001b[0m \u001b[38;5;66;03m# Extract the bounding box coordinates for the hand\u001b[39;00m\n\u001b[1;32m     11\u001b[0m x1, y1, x2, y2 \u001b[38;5;241m=\u001b[39m hand_results[\u001b[38;5;241m0\u001b[39m][:\u001b[38;5;241m4\u001b[39m]\u001b[38;5;241m.\u001b[39mint()\u001b[38;5;241m.\u001b[39mtolist()\n",
      "\u001b[0;31mTypeError\u001b[0m: list indices must be integers or slices, not tuple"
     ]
    }
   ],
   "source": [
    "# Load input image\n",
    "img = cv2.imread('IMG-4794.JPG')\n",
    "\n",
    "# Detect objects in the input image using YOLOv5\n",
    "results = model(img)\n",
    "print(results)\n",
    "# Filter out all the detected objects except for the hand\n",
    "hand_results = results.pred[results.pred[:, 5] == 0] # Assumes hand class has index 0\n",
    "\n",
    "# Extract the bounding box coordinates for the hand\n",
    "x1, y1, x2, y2 = hand_results[0][:4].int().tolist()\n",
    "\n",
    "# Extract the region of the input image containing the hand\n",
    "hand_region = img[y1:y2, x1:x2]\n",
    "\n",
    "# Save the extracted hand region as a new image\n",
    "cv2.imwrite('hand_image.jpg', hand_region)"
   ]
  },
  {
   "cell_type": "code",
   "execution_count": 14,
   "id": "f5a37937-2008-43f5-9fc8-ebf69d2511f0",
   "metadata": {},
   "outputs": [
    {
     "name": "stdout",
     "output_type": "stream",
     "text": [
      "\u001b[33mWARNING: Ignoring invalid distribution -andas (/Users/jakesilver/opt/anaconda3/lib/python3.9/site-packages)\u001b[0m\u001b[33m\n",
      "\u001b[0m\u001b[31mERROR: Could not open requirements file: [Errno 2] No such file or directory: '/Users/jakesilver/.cache/torch/hub/requirements.txt'\u001b[0m\u001b[31m\n",
      "\u001b[0m\u001b[33mWARNING: Ignoring invalid distribution -andas (/Users/jakesilver/opt/anaconda3/lib/python3.9/site-packages)\u001b[0m\u001b[33m\n",
      "\u001b[0m\u001b[33mWARNING: Ignoring invalid distribution -andas (/Users/jakesilver/opt/anaconda3/lib/python3.9/site-packages)\u001b[0m\u001b[33m\n",
      "\u001b[0m\u001b[33mWARNING: Ignoring invalid distribution -andas (/Users/jakesilver/opt/anaconda3/lib/python3.9/site-packages)\u001b[0m\u001b[33m\n",
      "\u001b[0m"
     ]
    }
   ],
   "source": [
    "!pip install -r /Users/jakesilver/.cache/torch/hub/requirements.txt"
   ]
  },
  {
   "cell_type": "code",
   "execution_count": 18,
   "id": "c2190dc6-0797-41cf-af4d-50e98b2da9d3",
   "metadata": {},
   "outputs": [
    {
     "name": "stdout",
     "output_type": "stream",
     "text": [
      "\u001b[33mWARNING: Ignoring invalid distribution -andas (/Users/jakesilver/opt/anaconda3/lib/python3.9/site-packages)\u001b[0m\u001b[33m\n",
      "\u001b[0m\u001b[33mWARNING: Ignoring invalid distribution -andas (/Users/jakesilver/opt/anaconda3/lib/python3.9/site-packages)\u001b[0m\u001b[33m\n",
      "\u001b[0mRequirement already satisfied: gitpython>=3.1.30 in /Users/jakesilver/opt/anaconda3/lib/python3.9/site-packages (from -r https://raw.githubusercontent.com/ultralytics/yolov5/master/requirements.txt (line 5)) (3.1.31)\n",
      "Requirement already satisfied: matplotlib>=3.3 in /Users/jakesilver/opt/anaconda3/lib/python3.9/site-packages (from -r https://raw.githubusercontent.com/ultralytics/yolov5/master/requirements.txt (line 6)) (3.5.1)\n",
      "Requirement already satisfied: numpy>=1.18.5 in /Users/jakesilver/opt/anaconda3/lib/python3.9/site-packages (from -r https://raw.githubusercontent.com/ultralytics/yolov5/master/requirements.txt (line 7)) (1.22.4)\n",
      "Requirement already satisfied: opencv-python>=4.1.1 in /Users/jakesilver/opt/anaconda3/lib/python3.9/site-packages (from -r https://raw.githubusercontent.com/ultralytics/yolov5/master/requirements.txt (line 8)) (4.7.0.72)\n",
      "Requirement already satisfied: Pillow>=7.1.2 in /Users/jakesilver/opt/anaconda3/lib/python3.9/site-packages (from -r https://raw.githubusercontent.com/ultralytics/yolov5/master/requirements.txt (line 9)) (9.0.1)\n",
      "Requirement already satisfied: psutil in /Users/jakesilver/opt/anaconda3/lib/python3.9/site-packages (from -r https://raw.githubusercontent.com/ultralytics/yolov5/master/requirements.txt (line 10)) (5.8.0)\n",
      "Requirement already satisfied: PyYAML>=5.3.1 in /Users/jakesilver/opt/anaconda3/lib/python3.9/site-packages (from -r https://raw.githubusercontent.com/ultralytics/yolov5/master/requirements.txt (line 11)) (6.0)\n",
      "Requirement already satisfied: requests>=2.23.0 in /Users/jakesilver/opt/anaconda3/lib/python3.9/site-packages (from -r https://raw.githubusercontent.com/ultralytics/yolov5/master/requirements.txt (line 12)) (2.28.2)\n",
      "Requirement already satisfied: scipy>=1.4.1 in /Users/jakesilver/opt/anaconda3/lib/python3.9/site-packages (from -r https://raw.githubusercontent.com/ultralytics/yolov5/master/requirements.txt (line 13)) (1.7.3)\n",
      "Requirement already satisfied: thop>=0.1.1 in /Users/jakesilver/opt/anaconda3/lib/python3.9/site-packages (from -r https://raw.githubusercontent.com/ultralytics/yolov5/master/requirements.txt (line 14)) (0.1.1.post2209072238)\n",
      "Requirement already satisfied: torch>=1.7.0 in /Users/jakesilver/opt/anaconda3/lib/python3.9/site-packages (from -r https://raw.githubusercontent.com/ultralytics/yolov5/master/requirements.txt (line 15)) (2.0.0)\n",
      "Requirement already satisfied: torchvision>=0.8.1 in /Users/jakesilver/opt/anaconda3/lib/python3.9/site-packages (from -r https://raw.githubusercontent.com/ultralytics/yolov5/master/requirements.txt (line 16)) (0.15.1)\n",
      "Requirement already satisfied: tqdm>=4.64.0 in /Users/jakesilver/opt/anaconda3/lib/python3.9/site-packages (from -r https://raw.githubusercontent.com/ultralytics/yolov5/master/requirements.txt (line 17)) (4.64.0)\n",
      "Requirement already satisfied: pandas>=1.1.4 in /Users/jakesilver/opt/anaconda3/lib/python3.9/site-packages (from -r https://raw.githubusercontent.com/ultralytics/yolov5/master/requirements.txt (line 26)) (1.5.3)\n",
      "Requirement already satisfied: seaborn>=0.11.0 in /Users/jakesilver/opt/anaconda3/lib/python3.9/site-packages (from -r https://raw.githubusercontent.com/ultralytics/yolov5/master/requirements.txt (line 27)) (0.11.2)\n",
      "Requirement already satisfied: setuptools>=65.5.1 in /Users/jakesilver/opt/anaconda3/lib/python3.9/site-packages (from -r https://raw.githubusercontent.com/ultralytics/yolov5/master/requirements.txt (line 41)) (67.4.0)\n",
      "Requirement already satisfied: gitdb<5,>=4.0.1 in /Users/jakesilver/opt/anaconda3/lib/python3.9/site-packages (from gitpython>=3.1.30->-r https://raw.githubusercontent.com/ultralytics/yolov5/master/requirements.txt (line 5)) (4.0.10)\n",
      "Requirement already satisfied: fonttools>=4.22.0 in /Users/jakesilver/opt/anaconda3/lib/python3.9/site-packages (from matplotlib>=3.3->-r https://raw.githubusercontent.com/ultralytics/yolov5/master/requirements.txt (line 6)) (4.25.0)\n",
      "Requirement already satisfied: packaging>=20.0 in /Users/jakesilver/opt/anaconda3/lib/python3.9/site-packages (from matplotlib>=3.3->-r https://raw.githubusercontent.com/ultralytics/yolov5/master/requirements.txt (line 6)) (21.3)\n",
      "Requirement already satisfied: pyparsing>=2.2.1 in /Users/jakesilver/opt/anaconda3/lib/python3.9/site-packages (from matplotlib>=3.3->-r https://raw.githubusercontent.com/ultralytics/yolov5/master/requirements.txt (line 6)) (2.4.7)\n",
      "Requirement already satisfied: python-dateutil>=2.7 in /Users/jakesilver/opt/anaconda3/lib/python3.9/site-packages (from matplotlib>=3.3->-r https://raw.githubusercontent.com/ultralytics/yolov5/master/requirements.txt (line 6)) (2.8.2)\n",
      "Requirement already satisfied: cycler>=0.10 in /Users/jakesilver/opt/anaconda3/lib/python3.9/site-packages (from matplotlib>=3.3->-r https://raw.githubusercontent.com/ultralytics/yolov5/master/requirements.txt (line 6)) (0.10.0)\n",
      "Requirement already satisfied: kiwisolver>=1.0.1 in /Users/jakesilver/opt/anaconda3/lib/python3.9/site-packages (from matplotlib>=3.3->-r https://raw.githubusercontent.com/ultralytics/yolov5/master/requirements.txt (line 6)) (1.3.2)\n",
      "Requirement already satisfied: certifi>=2017.4.17 in /Users/jakesilver/opt/anaconda3/lib/python3.9/site-packages (from requests>=2.23.0->-r https://raw.githubusercontent.com/ultralytics/yolov5/master/requirements.txt (line 12)) (2022.12.7)\n",
      "Requirement already satisfied: charset-normalizer<4,>=2 in /Users/jakesilver/opt/anaconda3/lib/python3.9/site-packages (from requests>=2.23.0->-r https://raw.githubusercontent.com/ultralytics/yolov5/master/requirements.txt (line 12)) (2.0.4)\n",
      "Requirement already satisfied: idna<4,>=2.5 in /Users/jakesilver/opt/anaconda3/lib/python3.9/site-packages (from requests>=2.23.0->-r https://raw.githubusercontent.com/ultralytics/yolov5/master/requirements.txt (line 12)) (2.10)\n",
      "Requirement already satisfied: urllib3<1.27,>=1.21.1 in /Users/jakesilver/opt/anaconda3/lib/python3.9/site-packages (from requests>=2.23.0->-r https://raw.githubusercontent.com/ultralytics/yolov5/master/requirements.txt (line 12)) (1.26.14)\n",
      "Requirement already satisfied: sympy in /Users/jakesilver/opt/anaconda3/lib/python3.9/site-packages (from torch>=1.7.0->-r https://raw.githubusercontent.com/ultralytics/yolov5/master/requirements.txt (line 15)) (1.10.1)\n",
      "Requirement already satisfied: typing-extensions in /Users/jakesilver/opt/anaconda3/lib/python3.9/site-packages (from torch>=1.7.0->-r https://raw.githubusercontent.com/ultralytics/yolov5/master/requirements.txt (line 15)) (4.1.1)\n",
      "Requirement already satisfied: filelock in /Users/jakesilver/opt/anaconda3/lib/python3.9/site-packages (from torch>=1.7.0->-r https://raw.githubusercontent.com/ultralytics/yolov5/master/requirements.txt (line 15)) (3.6.0)\n",
      "Requirement already satisfied: networkx in /Users/jakesilver/opt/anaconda3/lib/python3.9/site-packages (from torch>=1.7.0->-r https://raw.githubusercontent.com/ultralytics/yolov5/master/requirements.txt (line 15)) (2.7.1)\n",
      "Requirement already satisfied: jinja2 in /Users/jakesilver/opt/anaconda3/lib/python3.9/site-packages (from torch>=1.7.0->-r https://raw.githubusercontent.com/ultralytics/yolov5/master/requirements.txt (line 15)) (2.11.3)\n",
      "Requirement already satisfied: pytz>=2020.1 in /Users/jakesilver/opt/anaconda3/lib/python3.9/site-packages (from pandas>=1.1.4->-r https://raw.githubusercontent.com/ultralytics/yolov5/master/requirements.txt (line 26)) (2022.7.1)\n",
      "Requirement already satisfied: six in /Users/jakesilver/opt/anaconda3/lib/python3.9/site-packages (from cycler>=0.10->matplotlib>=3.3->-r https://raw.githubusercontent.com/ultralytics/yolov5/master/requirements.txt (line 6)) (1.12.0)\n",
      "Requirement already satisfied: smmap<6,>=3.0.1 in /Users/jakesilver/opt/anaconda3/lib/python3.9/site-packages (from gitdb<5,>=4.0.1->gitpython>=3.1.30->-r https://raw.githubusercontent.com/ultralytics/yolov5/master/requirements.txt (line 5)) (5.0.0)\n",
      "Requirement already satisfied: MarkupSafe>=0.23 in /Users/jakesilver/opt/anaconda3/lib/python3.9/site-packages (from jinja2->torch>=1.7.0->-r https://raw.githubusercontent.com/ultralytics/yolov5/master/requirements.txt (line 15)) (2.0.1)\n",
      "Requirement already satisfied: mpmath>=0.19 in /Users/jakesilver/opt/anaconda3/lib/python3.9/site-packages (from sympy->torch>=1.7.0->-r https://raw.githubusercontent.com/ultralytics/yolov5/master/requirements.txt (line 15)) (1.2.1)\n",
      "\u001b[33mWARNING: Ignoring invalid distribution -andas (/Users/jakesilver/opt/anaconda3/lib/python3.9/site-packages)\u001b[0m\u001b[33m\n",
      "\u001b[0m\u001b[33mWARNING: Ignoring invalid distribution -andas (/Users/jakesilver/opt/anaconda3/lib/python3.9/site-packages)\u001b[0m\u001b[33m\n",
      "\u001b[0m\u001b[33mWARNING: Ignoring invalid distribution -andas (/Users/jakesilver/opt/anaconda3/lib/python3.9/site-packages)\u001b[0m\u001b[33m\n",
      "\u001b[0m\u001b[33mWARNING: Ignoring invalid distribution -andas (/Users/jakesilver/opt/anaconda3/lib/python3.9/site-packages)\u001b[0m\u001b[33m\n",
      "\u001b[0m"
     ]
    }
   ],
   "source": [
    "!pip install -r https://raw.githubusercontent.com/ultralytics/yolov5/master/requirements.txt\n"
   ]
  },
  {
   "cell_type": "code",
   "execution_count": null,
   "id": "6aa3d965-6083-464b-aa9d-516921e09a86",
   "metadata": {},
   "outputs": [],
   "source": []
  }
 ],
 "metadata": {
  "kernelspec": {
   "display_name": "Python 3 (ipykernel)",
   "language": "python",
   "name": "python3"
  },
  "language_info": {
   "codemirror_mode": {
    "name": "ipython",
    "version": 3
   },
   "file_extension": ".py",
   "mimetype": "text/x-python",
   "name": "python",
   "nbconvert_exporter": "python",
   "pygments_lexer": "ipython3",
   "version": "3.9.12"
  }
 },
 "nbformat": 4,
 "nbformat_minor": 5
}
